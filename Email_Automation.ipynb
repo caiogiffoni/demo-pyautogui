{
  "cells": [
    {
      "cell_type": "markdown",
      "metadata": {
        "id": "view-in-github",
        "colab_type": "text"
      },
      "source": [
        "<a href=\"https://colab.research.google.com/github/caiogiffoni/demo-pyautogui/blob/main/Email_Automation.ipynb\" target=\"_parent\"><img src=\"https://colab.research.google.com/assets/colab-badge.svg\" alt=\"Open In Colab\"/></a>"
      ]
    },
    {
      "cell_type": "code",
      "execution_count": null,
      "id": "6a214ff6",
      "metadata": {
        "id": "6a214ff6"
      },
      "outputs": [],
      "source": [
        "import pyautogui\n",
        "import time\n",
        "%store -r MINHASENHA\n",
        "\n",
        "# pyautogui.write() -> escreve\n",
        "# pyautogui.click -> clica\n",
        "# pyautogui.locateOnScreen -> identifica uma imagem na sua tela\n",
        "# pyautogui.hotkey -> usa atalhos do teclado (combinação de teclas)\n",
        "# pyautogui.press -> aperta um botão do teclado\n",
        "# print(pyautogui.KEYBOARD_KEYS)\n",
        "\n",
        "pyautogui.alert('O código vai começar. Não mexa em NADA enquanto o código tiver rodando. Quando finalizar, eu te aviso')\n",
        "\n",
        "pyautogui.PAUSE = 3\n",
        "\n",
        "# ir desktop\n",
        "pyautogui.hotkey('win', 'd')\n",
        "# apertar o windows do teclado\n",
        "pyautogui.press('win')\n",
        "# digitar chrome\n",
        "pyautogui.write(\"chrome\")\n",
        "# apertar enter\n",
        "pyautogui.press('enter')\n",
        "# abrir nova aba\n",
        "pyautogui.hotkey('ctrl', 'shift', 'n')  \n",
        "\n",
        "# entrar no Gmail\n",
        "pyautogui.write('gmail')\n",
        "pyautogui.press('enter')\n",
        "\n",
        "#esperar carregar o google\n",
        "time.sleep(2)\n",
        "\n",
        "pyautogui.write('caioteste9987@gmail.com')\n",
        "pyautogui.press('enter')\n",
        "time.sleep(2)\n",
        "pyautogui.write(MINHASENHA)\n",
        "pyautogui.press('enter')"
      ]
    },
    {
      "cell_type": "code",
      "execution_count": null,
      "id": "25e51221",
      "metadata": {
        "id": "25e51221"
      },
      "outputs": [],
      "source": [
        "time.sleep(1)\n",
        "\n",
        "# entrar em contatos\n",
        "pyautogui.click(1842,139)\n",
        "\n",
        "time.sleep(1)\n",
        "\n",
        "pyautogui.click(1653,501)\n",
        "\n",
        "#esperar o contatos\n",
        "time.sleep(1)\n",
        "\n",
        "pyautogui.click(156,541)\n",
        "\n",
        "# exportar os contatos\n",
        "pyautogui.click(1102,705)\n",
        "pyautogui.press('enter')"
      ]
    },
    {
      "cell_type": "code",
      "execution_count": null,
      "id": "192b9315",
      "metadata": {
        "id": "192b9315",
        "outputId": "30dad201-4ac1-4fae-b36d-5e59e6184e4d"
      },
      "outputs": [
        {
          "data": {
            "text/html": [
              "<div>\n",
              "<style scoped>\n",
              "    .dataframe tbody tr th:only-of-type {\n",
              "        vertical-align: middle;\n",
              "    }\n",
              "\n",
              "    .dataframe tbody tr th {\n",
              "        vertical-align: top;\n",
              "    }\n",
              "\n",
              "    .dataframe thead th {\n",
              "        text-align: right;\n",
              "    }\n",
              "</style>\n",
              "<table border=\"1\" class=\"dataframe\">\n",
              "  <thead>\n",
              "    <tr style=\"text-align: right;\">\n",
              "      <th></th>\n",
              "      <th>Name</th>\n",
              "      <th>Given Name</th>\n",
              "      <th>Group Membership</th>\n",
              "      <th>E-mail 1 - Type</th>\n",
              "      <th>E-mail 1 - Value</th>\n",
              "    </tr>\n",
              "  </thead>\n",
              "  <tbody>\n",
              "    <tr>\n",
              "      <th>0</th>\n",
              "      <td>Caio 1</td>\n",
              "      <td>Caio 1</td>\n",
              "      <td>* myContacts</td>\n",
              "      <td>*</td>\n",
              "      <td>caio_cgf@hotmail.com</td>\n",
              "    </tr>\n",
              "    <tr>\n",
              "      <th>1</th>\n",
              "      <td>Caio 2</td>\n",
              "      <td>Caio 2</td>\n",
              "      <td>* myContacts</td>\n",
              "      <td>*</td>\n",
              "      <td>caiocgfg@gmail.com</td>\n",
              "    </tr>\n",
              "  </tbody>\n",
              "</table>\n",
              "</div>"
            ],
            "text/plain": [
              "     Name Given Name Group Membership E-mail 1 - Type      E-mail 1 - Value\n",
              "0  Caio 1     Caio 1     * myContacts              *   caio_cgf@hotmail.com\n",
              "1  Caio 2     Caio 2     * myContacts              *     caiocgfg@gmail.com"
            ]
          },
          "metadata": {},
          "output_type": "display_data"
        },
        {
          "data": {
            "text/plain": [
              "'OK'"
            ]
          },
          "execution_count": 3,
          "metadata": {},
          "output_type": "execute_result"
        }
      ],
      "source": [
        "import pandas as pd\n",
        "\n",
        "time.sleep(2)\n",
        "df = pd.read_csv(r'/home/caiogiffoni/Downloads/contacts.csv')\n",
        "df = df.dropna(axis=1)\n",
        "\n",
        "display(df)\n",
        "\n",
        "pyautogui.hotkey('ctrl', 'pgup')\n",
        "\n",
        "for index, email in enumerate(df['E-mail 1 - Value']):\n",
        "    #clicar no botão escrever\n",
        "    time.sleep(3)\n",
        "    pyautogui.click(60, 202)\n",
        "    time.sleep(1)\n",
        "    # escrever o email\n",
        "    pyautogui.write(email)\n",
        "    # enter\n",
        "    pyautogui.press('enter')\n",
        "    #tab para o assunto do email\n",
        "    pyautogui.press('tab')\n",
        "    pyautogui.write('Uma mensagem de agradecimento')\n",
        "    #tab para o corpo do email\n",
        "    pyautogui.press('tab')\n",
        "    texto = f\"\"\"\n",
        "    Caro {df['Name'][index]},\n",
        "    \n",
        "    Gostaria de enviar esse email para agradecer por tudo que fez.\n",
        "    \n",
        "    Abs\"\"\"\n",
        "    time.sleep(1)\n",
        "    pyautogui.write(texto)\n",
        "    time.sleep(1)\n",
        "    pyautogui.hotkey('ctrl', 'enter')\n",
        "    time.sleep(1)\n",
        "    \n",
        "pyautogui.alert('O código terminou, pode pegar o seu computador de volta')"
      ]
    }
  ],
  "metadata": {
    "kernelspec": {
      "display_name": "Python 3 (ipykernel)",
      "language": "python",
      "name": "python3"
    },
    "language_info": {
      "codemirror_mode": {
        "name": "ipython",
        "version": 3
      },
      "file_extension": ".py",
      "mimetype": "text/x-python",
      "name": "python",
      "nbconvert_exporter": "python",
      "pygments_lexer": "ipython3",
      "version": "3.9.13"
    },
    "colab": {
      "provenance": [],
      "include_colab_link": true
    }
  },
  "nbformat": 4,
  "nbformat_minor": 5
}